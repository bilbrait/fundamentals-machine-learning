{
 "cells": [
  {
   "cell_type": "code",
   "execution_count": 1,
   "id": "9a4a83ca",
   "metadata": {},
   "outputs": [],
   "source": [
    "%matplotlib inline\n",
    "import numpy as np\n",
    "import sklearn.datasets as data\n",
    "import matplotlib\n",
    "import matplotlib.pyplot as plt\n",
    "import seaborn as sb; sb.set_style( 'darkgrid' ) # use whitegrid if prefer a white background\n",
    "import pandas as pd\n",
    "\n",
    "from numpy.random import SeedSequence, default_rng\n",
    "rng = default_rng( SeedSequence().entropy )\n",
    "\n",
    "import warnings\n",
    "warnings.filterwarnings(\"ignore\")\n",
    "\n",
    "#matplotlib.rcParams.update( { 'font.size': 18 } ) # Use this to setup your preferred font size for plotting"
   ]
  },
  {
   "cell_type": "markdown",
   "id": "47e03f21",
   "metadata": {},
   "source": [
    "#### Time for a friendly competition amongst participants: whom achieves the highest accuracy score in classifying the MNIST dataset\n",
    "\n",
    "#### Winner will be determined with the highest accuracy and a reasonable model selection justification (that is, model with an appropriate assumptio to the classification task)\n",
    "\n",
    "#### Constraints for the competition: Only using Scikit-learn library. Use a combination of an Unsupervised Learning model as a preprocessor and then do the classification with a Supervised model. Use model selection techniques presented in the course, like GridSearchCV, RandomizedSearchCV or Bayesian Analysis to explore a variety of hyperparameter options for both unsupervised and supervised model. "
   ]
  },
  {
   "cell_type": "code",
   "execution_count": null,
   "id": "84c3bed0",
   "metadata": {},
   "outputs": [],
   "source": [
    "from sklearn.model_selection import GridSearchCV, RandomizedSearchCV\n",
    "from sklearn.pipeline import Pipeline # For combining models\n",
    "\n",
    "param_grid = []\n",
    "\n",
    "pipe = PipeLine( [] )"
   ]
  }
 ],
 "metadata": {
  "kernelspec": {
   "display_name": "Python 3 (ipykernel)",
   "language": "python",
   "name": "python3"
  },
  "language_info": {
   "codemirror_mode": {
    "name": "ipython",
    "version": 3
   },
   "file_extension": ".py",
   "mimetype": "text/x-python",
   "name": "python",
   "nbconvert_exporter": "python",
   "pygments_lexer": "ipython3",
   "version": "3.10.7"
  }
 },
 "nbformat": 4,
 "nbformat_minor": 5
}
